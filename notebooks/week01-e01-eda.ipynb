{
 "cells": [
  {
   "cell_type": "code",
   "execution_count": 29,
   "id": "df28b695-4fe3-47ef-bbbb-4cf6f53829d1",
   "metadata": {},
   "outputs": [],
   "source": [
    "import os, sys\n",
    "sys.path.insert(0, os.path.abspath(\"..\"))\n",
    "\n",
    "import numpy as np\n",
    "import pandas as pd\n",
    "\n",
    "from app.data.prepare_agnews import get_data_splits_from_zip_file"
   ]
  },
  {
   "cell_type": "code",
   "execution_count": 30,
   "id": "58071ae7-4bc8-43b5-9d78-d9e8c72ab4cc",
   "metadata": {},
   "outputs": [
    {
     "name": "stdout",
     "output_type": "stream",
     "text": [
      "Reading train.json from ../data/input/raw/agnews.zip...\n",
      "Reading test.json from ../data/input/raw/agnews.zip...\n",
      "Reading augment.json from ../data/input/raw/agnews.zip...\n"
     ]
    }
   ],
   "source": [
    "raw_data = get_data_splits_from_zip_file(\"../data/input/raw/agnews.zip\")"
   ]
  },
  {
   "cell_type": "code",
   "execution_count": 32,
   "id": "207da670-dbb0-4279-9e7e-7ff5b870ea35",
   "metadata": {},
   "outputs": [],
   "source": [
    "df_train_data = pd.DataFrame(raw_data[\"train\"])\n",
    "df_train_data[\"description_len\"] = df_train_data[\"description\"].apply(lambda r: len(r))"
   ]
  },
  {
   "cell_type": "code",
   "execution_count": 37,
   "id": "274f055f-b30b-4ab5-8ea9-7a8882dcf863",
   "metadata": {},
   "outputs": [
    {
     "data": {
      "text/html": [
       "<div>\n",
       "<style scoped>\n",
       "    .dataframe tbody tr th:only-of-type {\n",
       "        vertical-align: middle;\n",
       "    }\n",
       "\n",
       "    .dataframe tbody tr th {\n",
       "        vertical-align: top;\n",
       "    }\n",
       "\n",
       "    .dataframe thead th {\n",
       "        text-align: right;\n",
       "    }\n",
       "</style>\n",
       "<table border=\"1\" class=\"dataframe\">\n",
       "  <thead>\n",
       "    <tr style=\"text-align: right;\">\n",
       "      <th></th>\n",
       "      <th>id</th>\n",
       "    </tr>\n",
       "    <tr>\n",
       "      <th>label</th>\n",
       "      <th></th>\n",
       "    </tr>\n",
       "  </thead>\n",
       "  <tbody>\n",
       "    <tr>\n",
       "      <th>Business</th>\n",
       "      <td>224</td>\n",
       "    </tr>\n",
       "    <tr>\n",
       "      <th>Entertainment</th>\n",
       "      <td>1</td>\n",
       "    </tr>\n",
       "    <tr>\n",
       "      <th>Health</th>\n",
       "      <td>1</td>\n",
       "    </tr>\n",
       "    <tr>\n",
       "      <th>Sci/Tech</th>\n",
       "      <td>5</td>\n",
       "    </tr>\n",
       "    <tr>\n",
       "      <th>Software and Developement</th>\n",
       "      <td>32</td>\n",
       "    </tr>\n",
       "    <tr>\n",
       "      <th>Sports</th>\n",
       "      <td>1</td>\n",
       "    </tr>\n",
       "  </tbody>\n",
       "</table>\n",
       "</div>"
      ],
      "text/plain": [
       "                            id\n",
       "label                         \n",
       "Business                   224\n",
       "Entertainment                1\n",
       "Health                       1\n",
       "Sci/Tech                     5\n",
       "Software and Developement   32\n",
       "Sports                       1"
      ]
     },
     "execution_count": 37,
     "metadata": {},
     "output_type": "execute_result"
    }
   ],
   "source": [
    "df_train_data[df_train_data[\"description_len\"] == 0].groupby(\"label\").count()[[\"id\"]]"
   ]
  },
  {
   "cell_type": "code",
   "execution_count": 44,
   "id": "676b067b-f55d-4ca6-a7f9-0db5ecfe132c",
   "metadata": {},
   "outputs": [
    {
     "data": {
      "text/plain": [
       "array([  152,   274,   284,   293,   372,   500,   561,   707,   762,\n",
       "         837,   932,  1206,  1327,  1329,  1347,  1547,  1559,  1608,\n",
       "        1787,  2067,  2164,  2293,  2405,  2720,  2876,  2906,  2963,\n",
       "        3161,  3314,  3495,  3610,  3887,  4012,  4123,  4146,  4156,\n",
       "        4187,  4211,  4393,  4401,  4440,  4559,  4694,  4713,  4900,\n",
       "        4901,  5011,  5014,  5059,  5078,  5114,  5223,  5243,  5302,\n",
       "        5358,  5605,  5607,  5770,  5964,  6092,  6132,  6181,  6264,\n",
       "        6306,  6441,  6448,  6461,  6582,  6756,  6792,  6858,  6889,\n",
       "        6930,  7055,  7296,  7328,  7343,  7541,  7592,  7609,  7612,\n",
       "        7776,  8195,  8244,  8268,  8290,  8321,  8447,  8554,  8610,\n",
       "        8635,  8963,  9026,  9264,  9419,  9575,  9641,  9743,  9780,\n",
       "        9990, 10319, 10348, 10386, 10469, 10564, 10792, 10919, 10976,\n",
       "       10993, 11084, 11159, 11249, 11302, 11430, 11560, 11627, 11723,\n",
       "       11841, 11855, 11858, 11880, 12013, 12016, 12139, 12222, 12433,\n",
       "       12515, 12657, 12928, 13014, 13039, 13066, 13107, 13277, 13289,\n",
       "       13337, 13387, 13418, 13445, 13745, 14027, 14101, 14271, 14525,\n",
       "       14559, 14578, 14596, 14677, 14690, 14729, 14733, 15071, 15149,\n",
       "       15227, 15758, 15794, 15826, 15974, 15997, 16046, 16047, 16062,\n",
       "       16285, 16309, 16329, 16467, 16494, 16510, 16577, 16651, 16685,\n",
       "       16797, 16842, 17128, 17297, 17408, 17460, 17575, 17591, 17592,\n",
       "       17645, 17769, 17771, 17811, 17888, 18049, 18187, 18289, 18305,\n",
       "       18351, 18418, 18476, 18542, 18906, 18921, 19053, 19067, 19158,\n",
       "       19161, 19214, 19301, 19393, 19520, 19589, 19807, 19856, 19873,\n",
       "       19886, 20108, 20163, 20332, 20334, 20488, 20490, 20583, 20606,\n",
       "       20658, 20757, 20864, 20909, 20949, 20963, 20966, 21053, 21093,\n",
       "       21119, 21282, 21289, 21310, 21331, 21362, 21470, 21529, 21564,\n",
       "       21610, 21638, 21649, 21868, 21952, 21964, 22045, 22097, 22188,\n",
       "       22402, 22492, 22723, 22733, 22824, 22839, 22977, 23104, 23448,\n",
       "       23455, 23513, 23617, 23683, 23916, 24090, 24094, 24206, 24524,\n",
       "       24900, 24951, 24972])"
      ]
     },
     "execution_count": 44,
     "metadata": {},
     "output_type": "execute_result"
    }
   ],
   "source": [
    "np.array(df_train_data[df_train_data[\"description_len\"] == 0].index)"
   ]
  },
  {
   "cell_type": "code",
   "execution_count": 40,
   "id": "9a16d71e-422b-4af0-b72d-9a1a73c34473",
   "metadata": {},
   "outputs": [
    {
     "data": {
      "text/html": [
       "<div>\n",
       "<style scoped>\n",
       "    .dataframe tbody tr th:only-of-type {\n",
       "        vertical-align: middle;\n",
       "    }\n",
       "\n",
       "    .dataframe tbody tr th {\n",
       "        vertical-align: top;\n",
       "    }\n",
       "\n",
       "    .dataframe thead th {\n",
       "        text-align: right;\n",
       "    }\n",
       "</style>\n",
       "<table border=\"1\" class=\"dataframe\">\n",
       "  <thead>\n",
       "    <tr style=\"text-align: right;\">\n",
       "      <th></th>\n",
       "      <th>id</th>\n",
       "    </tr>\n",
       "    <tr>\n",
       "      <th>label</th>\n",
       "      <th></th>\n",
       "    </tr>\n",
       "  </thead>\n",
       "  <tbody>\n",
       "    <tr>\n",
       "      <th>Business</th>\n",
       "      <td>422</td>\n",
       "    </tr>\n",
       "    <tr>\n",
       "      <th>Entertainment</th>\n",
       "      <td>2</td>\n",
       "    </tr>\n",
       "    <tr>\n",
       "      <th>Health</th>\n",
       "      <td>1</td>\n",
       "    </tr>\n",
       "    <tr>\n",
       "      <th>Sci/Tech</th>\n",
       "      <td>12</td>\n",
       "    </tr>\n",
       "    <tr>\n",
       "      <th>Software and Developement</th>\n",
       "      <td>77</td>\n",
       "    </tr>\n",
       "  </tbody>\n",
       "</table>\n",
       "</div>"
      ],
      "text/plain": [
       "                            id\n",
       "label                         \n",
       "Business                   422\n",
       "Entertainment                2\n",
       "Health                       1\n",
       "Sci/Tech                    12\n",
       "Software and Developement   77"
      ]
     },
     "execution_count": 40,
     "metadata": {},
     "output_type": "execute_result"
    }
   ],
   "source": [
    "df_test_data = pd.DataFrame(raw_data[\"test\"])\n",
    "df_test_data[\"description_len\"] = df_test_data[\"description\"].apply(lambda r: len(r))\n",
    "df_test_data[df_test_data[\"description_len\"] == 0].groupby(\"label\").count()[[\"id\"]]"
   ]
  },
  {
   "cell_type": "code",
   "execution_count": 41,
   "id": "ecbebb15-921f-4095-82b3-9836058f5325",
   "metadata": {},
   "outputs": [
    {
     "data": {
      "text/html": [
       "<div>\n",
       "<style scoped>\n",
       "    .dataframe tbody tr th:only-of-type {\n",
       "        vertical-align: middle;\n",
       "    }\n",
       "\n",
       "    .dataframe tbody tr th {\n",
       "        vertical-align: top;\n",
       "    }\n",
       "\n",
       "    .dataframe thead th {\n",
       "        text-align: right;\n",
       "    }\n",
       "</style>\n",
       "<table border=\"1\" class=\"dataframe\">\n",
       "  <thead>\n",
       "    <tr style=\"text-align: right;\">\n",
       "      <th></th>\n",
       "      <th>id</th>\n",
       "    </tr>\n",
       "    <tr>\n",
       "      <th>label</th>\n",
       "      <th></th>\n",
       "    </tr>\n",
       "  </thead>\n",
       "  <tbody>\n",
       "    <tr>\n",
       "      <th>Business</th>\n",
       "      <td>1285</td>\n",
       "    </tr>\n",
       "    <tr>\n",
       "      <th>Entertainment</th>\n",
       "      <td>16</td>\n",
       "    </tr>\n",
       "    <tr>\n",
       "      <th>Health</th>\n",
       "      <td>3</td>\n",
       "    </tr>\n",
       "    <tr>\n",
       "      <th>Sci/Tech</th>\n",
       "      <td>39</td>\n",
       "    </tr>\n",
       "    <tr>\n",
       "      <th>Software and Developement</th>\n",
       "      <td>215</td>\n",
       "    </tr>\n",
       "    <tr>\n",
       "      <th>Sports</th>\n",
       "      <td>9</td>\n",
       "    </tr>\n",
       "  </tbody>\n",
       "</table>\n",
       "</div>"
      ],
      "text/plain": [
       "                             id\n",
       "label                          \n",
       "Business                   1285\n",
       "Entertainment                16\n",
       "Health                        3\n",
       "Sci/Tech                     39\n",
       "Software and Developement   215\n",
       "Sports                        9"
      ]
     },
     "execution_count": 41,
     "metadata": {},
     "output_type": "execute_result"
    }
   ],
   "source": [
    "df_augment_data = pd.DataFrame(raw_data[\"augment\"])\n",
    "df_augment_data[\"description_len\"] = df_augment_data[\"description\"].apply(lambda r: len(r))\n",
    "df_augment_data[df_augment_data[\"description_len\"] == 0].groupby(\"label\").count()[[\"id\"]]"
   ]
  },
  {
   "cell_type": "code",
   "execution_count": null,
   "id": "7990fe81-db91-46f3-ab85-8e863e1e8f43",
   "metadata": {},
   "outputs": [],
   "source": []
  }
 ],
 "metadata": {
  "kernelspec": {
   "display_name": "Python 3 (ipykernel)",
   "language": "python",
   "name": "python3"
  },
  "language_info": {
   "codemirror_mode": {
    "name": "ipython",
    "version": 3
   },
   "file_extension": ".py",
   "mimetype": "text/x-python",
   "name": "python",
   "nbconvert_exporter": "python",
   "pygments_lexer": "ipython3",
   "version": "3.8.10"
  }
 },
 "nbformat": 4,
 "nbformat_minor": 5
}
